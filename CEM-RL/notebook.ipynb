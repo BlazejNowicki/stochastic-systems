{
 "cells": [
  {
   "cell_type": "code",
   "execution_count": 31,
   "metadata": {},
   "outputs": [],
   "source": [
    "import gymnasium as gym\n",
    "from es_grad_im import Actor\n",
    "import argparse\n",
    "import torch"
   ]
  },
  {
   "cell_type": "code",
   "execution_count": 32,
   "metadata": {},
   "outputs": [],
   "source": [
    "class Args(argparse.Namespace):\n",
    "    actor_lr=0.001\n",
    "    critic_lr=0.001\n",
    "    batch_size=100\n",
    "    discount=0.99\n",
    "    reward_scale=1.0\n",
    "    tau=0.005\n",
    "    layer_norm=False\n",
    "\n",
    "    use_td3=\"use_td3\"\n",
    "    policy_noise=0.2\n",
    "    noise_clip=0.5\n",
    "    policy_freq=2\n",
    "\n",
    "args=Args()\n"
   ]
  },
  {
   "cell_type": "code",
   "execution_count": 36,
   "metadata": {},
   "outputs": [],
   "source": [
    "env = gym.make(\"HalfCheetah-v4\", render_mode=\"human\")\n",
    "env = gym.wrappers.RecordEpisodeStatistics(env)\n",
    "\n",
    "state_dim = env.observation_space.shape[0]\n",
    "action_dim = env.action_space.shape[0]\n",
    "max_action = int(env.action_space.high[0])\n",
    "actor = Actor(state_dim, action_dim, max_action, args)\n",
    "actor.load_model('results/HalfCheetah-v4-run8', 'actor')\n",
    "\n",
    "observation, info = env.reset()\n",
    "\n",
    "for _ in range(1000):\n",
    "    state = torch.FloatTensor(observation.reshape(-1))\n",
    "    action = actor(state).cpu().data.numpy().flatten()\n",
    "\n",
    "    observation, reward, terminated, truncated, info = env.step(action)\n",
    "\n",
    "    if terminated or truncated:\n",
    "        observation, info = env.reset()\n",
    "\n",
    "env.close()"
   ]
  },
  {
   "cell_type": "code",
   "execution_count": null,
   "metadata": {},
   "outputs": [],
   "source": []
  }
 ],
 "metadata": {
  "kernelspec": {
   "display_name": "stochastic",
   "language": "python",
   "name": "python3"
  },
  "language_info": {
   "codemirror_mode": {
    "name": "ipython",
    "version": 3
   },
   "file_extension": ".py",
   "mimetype": "text/x-python",
   "name": "python",
   "nbconvert_exporter": "python",
   "pygments_lexer": "ipython3",
   "version": "3.10.14"
  }
 },
 "nbformat": 4,
 "nbformat_minor": 2
}
